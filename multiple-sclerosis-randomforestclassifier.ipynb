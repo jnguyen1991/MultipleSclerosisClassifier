{
 "cells": [
  {
   "cell_type": "code",
   "execution_count": 1,
   "id": "c0724345",
   "metadata": {
    "_cell_guid": "b1076dfc-b9ad-4769-8c92-a6c4dae69d19",
    "_uuid": "8f2839f25d086af736a60e9eeb907d3b93b6e0e5",
    "execution": {
     "iopub.execute_input": "2023-05-31T02:22:51.521553Z",
     "iopub.status.busy": "2023-05-31T02:22:51.520976Z",
     "iopub.status.idle": "2023-05-31T02:22:53.494028Z",
     "shell.execute_reply": "2023-05-31T02:22:53.492805Z"
    },
    "papermill": {
     "duration": 1.985569,
     "end_time": "2023-05-31T02:22:53.497450",
     "exception": false,
     "start_time": "2023-05-31T02:22:51.511881",
     "status": "completed"
    },
    "tags": []
   },
   "outputs": [
    {
     "name": "stdout",
     "output_type": "stream",
     "text": [
      "/kaggle/input/conversion-predictors-of-cis-to-multiple-sclerosis/conversion_predictors_of_clinically_isolated_syndrome_to_multiple_sclerosis.csv\n"
     ]
    }
   ],
   "source": [
    "# This Python 3 environment comes with many helpful analytics libraries installed\n",
    "# It is defined by the kaggle/python Docker image: https://github.com/kaggle/docker-python\n",
    "# For example, here's several helpful packages to load\n",
    "\n",
    "import numpy as np # linear algebra\n",
    "import pandas as pd # data processing, CSV file I/O (e.g. pd.read_csv)\n",
    "from sklearn.ensemble import RandomForestClassifier\n",
    "from sklearn.model_selection import cross_val_score\n",
    "from sklearn.metrics import confusion_matrix\n",
    "from sklearn.metrics import classification_report\n",
    "from sklearn.metrics import recall_score\n",
    "from sklearn.metrics import precision_score\n",
    "from sklearn.model_selection import GridSearchCV\n",
    "from sklearn.model_selection import train_test_split\n",
    "\n",
    "# Input data files are available in the read-only \"../input/\" directory\n",
    "# For example, running this (by clicking run or pressing Shift+Enter) will list all files under the input directory\n",
    "\n",
    "import os\n",
    "for dirname, _, filenames in os.walk('/kaggle/input'):\n",
    "    for filename in filenames:\n",
    "        print(os.path.join(dirname, filename))\n",
    "\n",
    "# You can write up to 20GB to the current directory (/kaggle/working/) that gets preserved as output when you create a version using \"Save & Run All\" \n",
    "# You can also write temporary files to /kaggle/temp/, but they won't be saved outside of the current session"
   ]
  },
  {
   "cell_type": "code",
   "execution_count": 2,
   "id": "c60a2ec2",
   "metadata": {
    "execution": {
     "iopub.execute_input": "2023-05-31T02:22:53.513978Z",
     "iopub.status.busy": "2023-05-31T02:22:53.513172Z",
     "iopub.status.idle": "2023-05-31T02:22:53.587697Z",
     "shell.execute_reply": "2023-05-31T02:22:53.586437Z"
    },
    "papermill": {
     "duration": 0.085525,
     "end_time": "2023-05-31T02:22:53.590247",
     "exception": false,
     "start_time": "2023-05-31T02:22:53.504722",
     "status": "completed"
    },
    "tags": []
   },
   "outputs": [
    {
     "data": {
      "text/html": [
       "<div>\n",
       "<style scoped>\n",
       "    .dataframe tbody tr th:only-of-type {\n",
       "        vertical-align: middle;\n",
       "    }\n",
       "\n",
       "    .dataframe tbody tr th {\n",
       "        vertical-align: top;\n",
       "    }\n",
       "\n",
       "    .dataframe thead th {\n",
       "        text-align: right;\n",
       "    }\n",
       "</style>\n",
       "<table border=\"1\" class=\"dataframe\">\n",
       "  <thead>\n",
       "    <tr style=\"text-align: right;\">\n",
       "      <th></th>\n",
       "      <th>Unnamed: 0</th>\n",
       "      <th>Gender</th>\n",
       "      <th>Age</th>\n",
       "      <th>Schooling</th>\n",
       "      <th>Breastfeeding</th>\n",
       "      <th>Varicella</th>\n",
       "      <th>Initial_Symptom</th>\n",
       "      <th>Mono_or_Polysymptomatic</th>\n",
       "      <th>Oligoclonal_Bands</th>\n",
       "      <th>LLSSEP</th>\n",
       "      <th>ULSSEP</th>\n",
       "      <th>VEP</th>\n",
       "      <th>BAEP</th>\n",
       "      <th>Periventricular_MRI</th>\n",
       "      <th>Cortical_MRI</th>\n",
       "      <th>Infratentorial_MRI</th>\n",
       "      <th>Spinal_Cord_MRI</th>\n",
       "      <th>Initial_EDSS</th>\n",
       "      <th>Final_EDSS</th>\n",
       "      <th>group</th>\n",
       "    </tr>\n",
       "  </thead>\n",
       "  <tbody>\n",
       "    <tr>\n",
       "      <th>0</th>\n",
       "      <td>0</td>\n",
       "      <td>1</td>\n",
       "      <td>34</td>\n",
       "      <td>20.0</td>\n",
       "      <td>1</td>\n",
       "      <td>1</td>\n",
       "      <td>2.0</td>\n",
       "      <td>1</td>\n",
       "      <td>0</td>\n",
       "      <td>1</td>\n",
       "      <td>1</td>\n",
       "      <td>0</td>\n",
       "      <td>0</td>\n",
       "      <td>0</td>\n",
       "      <td>1</td>\n",
       "      <td>0</td>\n",
       "      <td>1</td>\n",
       "      <td>1.0</td>\n",
       "      <td>1.0</td>\n",
       "      <td>1</td>\n",
       "    </tr>\n",
       "    <tr>\n",
       "      <th>1</th>\n",
       "      <td>1</td>\n",
       "      <td>1</td>\n",
       "      <td>61</td>\n",
       "      <td>25.0</td>\n",
       "      <td>3</td>\n",
       "      <td>2</td>\n",
       "      <td>10.0</td>\n",
       "      <td>2</td>\n",
       "      <td>1</td>\n",
       "      <td>1</td>\n",
       "      <td>0</td>\n",
       "      <td>1</td>\n",
       "      <td>0</td>\n",
       "      <td>0</td>\n",
       "      <td>0</td>\n",
       "      <td>0</td>\n",
       "      <td>1</td>\n",
       "      <td>2.0</td>\n",
       "      <td>2.0</td>\n",
       "      <td>1</td>\n",
       "    </tr>\n",
       "    <tr>\n",
       "      <th>2</th>\n",
       "      <td>2</td>\n",
       "      <td>1</td>\n",
       "      <td>22</td>\n",
       "      <td>20.0</td>\n",
       "      <td>3</td>\n",
       "      <td>1</td>\n",
       "      <td>3.0</td>\n",
       "      <td>1</td>\n",
       "      <td>1</td>\n",
       "      <td>0</td>\n",
       "      <td>0</td>\n",
       "      <td>0</td>\n",
       "      <td>0</td>\n",
       "      <td>0</td>\n",
       "      <td>1</td>\n",
       "      <td>0</td>\n",
       "      <td>0</td>\n",
       "      <td>1.0</td>\n",
       "      <td>1.0</td>\n",
       "      <td>1</td>\n",
       "    </tr>\n",
       "    <tr>\n",
       "      <th>3</th>\n",
       "      <td>3</td>\n",
       "      <td>2</td>\n",
       "      <td>41</td>\n",
       "      <td>15.0</td>\n",
       "      <td>1</td>\n",
       "      <td>1</td>\n",
       "      <td>7.0</td>\n",
       "      <td>2</td>\n",
       "      <td>1</td>\n",
       "      <td>0</td>\n",
       "      <td>1</td>\n",
       "      <td>1</td>\n",
       "      <td>0</td>\n",
       "      <td>1</td>\n",
       "      <td>1</td>\n",
       "      <td>0</td>\n",
       "      <td>0</td>\n",
       "      <td>1.0</td>\n",
       "      <td>1.0</td>\n",
       "      <td>1</td>\n",
       "    </tr>\n",
       "    <tr>\n",
       "      <th>4</th>\n",
       "      <td>4</td>\n",
       "      <td>2</td>\n",
       "      <td>34</td>\n",
       "      <td>20.0</td>\n",
       "      <td>2</td>\n",
       "      <td>1</td>\n",
       "      <td>6.0</td>\n",
       "      <td>2</td>\n",
       "      <td>0</td>\n",
       "      <td>1</td>\n",
       "      <td>0</td>\n",
       "      <td>0</td>\n",
       "      <td>0</td>\n",
       "      <td>1</td>\n",
       "      <td>0</td>\n",
       "      <td>0</td>\n",
       "      <td>0</td>\n",
       "      <td>1.0</td>\n",
       "      <td>1.0</td>\n",
       "      <td>1</td>\n",
       "    </tr>\n",
       "    <tr>\n",
       "      <th>...</th>\n",
       "      <td>...</td>\n",
       "      <td>...</td>\n",
       "      <td>...</td>\n",
       "      <td>...</td>\n",
       "      <td>...</td>\n",
       "      <td>...</td>\n",
       "      <td>...</td>\n",
       "      <td>...</td>\n",
       "      <td>...</td>\n",
       "      <td>...</td>\n",
       "      <td>...</td>\n",
       "      <td>...</td>\n",
       "      <td>...</td>\n",
       "      <td>...</td>\n",
       "      <td>...</td>\n",
       "      <td>...</td>\n",
       "      <td>...</td>\n",
       "      <td>...</td>\n",
       "      <td>...</td>\n",
       "      <td>...</td>\n",
       "    </tr>\n",
       "    <tr>\n",
       "      <th>268</th>\n",
       "      <td>268</td>\n",
       "      <td>2</td>\n",
       "      <td>31</td>\n",
       "      <td>8.0</td>\n",
       "      <td>3</td>\n",
       "      <td>1</td>\n",
       "      <td>9.0</td>\n",
       "      <td>2</td>\n",
       "      <td>0</td>\n",
       "      <td>0</td>\n",
       "      <td>0</td>\n",
       "      <td>0</td>\n",
       "      <td>0</td>\n",
       "      <td>0</td>\n",
       "      <td>0</td>\n",
       "      <td>0</td>\n",
       "      <td>0</td>\n",
       "      <td>NaN</td>\n",
       "      <td>NaN</td>\n",
       "      <td>2</td>\n",
       "    </tr>\n",
       "    <tr>\n",
       "      <th>269</th>\n",
       "      <td>269</td>\n",
       "      <td>1</td>\n",
       "      <td>21</td>\n",
       "      <td>15.0</td>\n",
       "      <td>3</td>\n",
       "      <td>3</td>\n",
       "      <td>5.0</td>\n",
       "      <td>2</td>\n",
       "      <td>1</td>\n",
       "      <td>0</td>\n",
       "      <td>0</td>\n",
       "      <td>0</td>\n",
       "      <td>0</td>\n",
       "      <td>0</td>\n",
       "      <td>0</td>\n",
       "      <td>0</td>\n",
       "      <td>1</td>\n",
       "      <td>NaN</td>\n",
       "      <td>NaN</td>\n",
       "      <td>2</td>\n",
       "    </tr>\n",
       "    <tr>\n",
       "      <th>270</th>\n",
       "      <td>270</td>\n",
       "      <td>2</td>\n",
       "      <td>19</td>\n",
       "      <td>12.0</td>\n",
       "      <td>3</td>\n",
       "      <td>3</td>\n",
       "      <td>13.0</td>\n",
       "      <td>2</td>\n",
       "      <td>0</td>\n",
       "      <td>1</td>\n",
       "      <td>1</td>\n",
       "      <td>1</td>\n",
       "      <td>0</td>\n",
       "      <td>0</td>\n",
       "      <td>0</td>\n",
       "      <td>0</td>\n",
       "      <td>1</td>\n",
       "      <td>NaN</td>\n",
       "      <td>NaN</td>\n",
       "      <td>2</td>\n",
       "    </tr>\n",
       "    <tr>\n",
       "      <th>271</th>\n",
       "      <td>271</td>\n",
       "      <td>2</td>\n",
       "      <td>32</td>\n",
       "      <td>15.0</td>\n",
       "      <td>3</td>\n",
       "      <td>3</td>\n",
       "      <td>15.0</td>\n",
       "      <td>2</td>\n",
       "      <td>1</td>\n",
       "      <td>1</td>\n",
       "      <td>1</td>\n",
       "      <td>1</td>\n",
       "      <td>0</td>\n",
       "      <td>1</td>\n",
       "      <td>1</td>\n",
       "      <td>1</td>\n",
       "      <td>0</td>\n",
       "      <td>NaN</td>\n",
       "      <td>NaN</td>\n",
       "      <td>2</td>\n",
       "    </tr>\n",
       "    <tr>\n",
       "      <th>272</th>\n",
       "      <td>272</td>\n",
       "      <td>2</td>\n",
       "      <td>77</td>\n",
       "      <td>6.0</td>\n",
       "      <td>3</td>\n",
       "      <td>3</td>\n",
       "      <td>2.0</td>\n",
       "      <td>1</td>\n",
       "      <td>0</td>\n",
       "      <td>0</td>\n",
       "      <td>1</td>\n",
       "      <td>0</td>\n",
       "      <td>0</td>\n",
       "      <td>0</td>\n",
       "      <td>0</td>\n",
       "      <td>0</td>\n",
       "      <td>0</td>\n",
       "      <td>NaN</td>\n",
       "      <td>NaN</td>\n",
       "      <td>2</td>\n",
       "    </tr>\n",
       "  </tbody>\n",
       "</table>\n",
       "<p>273 rows × 20 columns</p>\n",
       "</div>"
      ],
      "text/plain": [
       "     Unnamed: 0  Gender  Age  Schooling  Breastfeeding  Varicella  \\\n",
       "0             0       1   34       20.0              1          1   \n",
       "1             1       1   61       25.0              3          2   \n",
       "2             2       1   22       20.0              3          1   \n",
       "3             3       2   41       15.0              1          1   \n",
       "4             4       2   34       20.0              2          1   \n",
       "..          ...     ...  ...        ...            ...        ...   \n",
       "268         268       2   31        8.0              3          1   \n",
       "269         269       1   21       15.0              3          3   \n",
       "270         270       2   19       12.0              3          3   \n",
       "271         271       2   32       15.0              3          3   \n",
       "272         272       2   77        6.0              3          3   \n",
       "\n",
       "     Initial_Symptom  Mono_or_Polysymptomatic  Oligoclonal_Bands  LLSSEP  \\\n",
       "0                2.0                        1                  0       1   \n",
       "1               10.0                        2                  1       1   \n",
       "2                3.0                        1                  1       0   \n",
       "3                7.0                        2                  1       0   \n",
       "4                6.0                        2                  0       1   \n",
       "..               ...                      ...                ...     ...   \n",
       "268              9.0                        2                  0       0   \n",
       "269              5.0                        2                  1       0   \n",
       "270             13.0                        2                  0       1   \n",
       "271             15.0                        2                  1       1   \n",
       "272              2.0                        1                  0       0   \n",
       "\n",
       "     ULSSEP  VEP  BAEP  Periventricular_MRI  Cortical_MRI  Infratentorial_MRI  \\\n",
       "0         1    0     0                    0             1                   0   \n",
       "1         0    1     0                    0             0                   0   \n",
       "2         0    0     0                    0             1                   0   \n",
       "3         1    1     0                    1             1                   0   \n",
       "4         0    0     0                    1             0                   0   \n",
       "..      ...  ...   ...                  ...           ...                 ...   \n",
       "268       0    0     0                    0             0                   0   \n",
       "269       0    0     0                    0             0                   0   \n",
       "270       1    1     0                    0             0                   0   \n",
       "271       1    1     0                    1             1                   1   \n",
       "272       1    0     0                    0             0                   0   \n",
       "\n",
       "     Spinal_Cord_MRI  Initial_EDSS  Final_EDSS  group  \n",
       "0                  1           1.0         1.0      1  \n",
       "1                  1           2.0         2.0      1  \n",
       "2                  0           1.0         1.0      1  \n",
       "3                  0           1.0         1.0      1  \n",
       "4                  0           1.0         1.0      1  \n",
       "..               ...           ...         ...    ...  \n",
       "268                0           NaN         NaN      2  \n",
       "269                1           NaN         NaN      2  \n",
       "270                1           NaN         NaN      2  \n",
       "271                0           NaN         NaN      2  \n",
       "272                0           NaN         NaN      2  \n",
       "\n",
       "[273 rows x 20 columns]"
      ]
     },
     "execution_count": 2,
     "metadata": {},
     "output_type": "execute_result"
    }
   ],
   "source": [
    "fpath = r\"/kaggle/input/conversion-predictors-of-cis-to-multiple-sclerosis/conversion_predictors_of_clinically_isolated_syndrome_to_multiple_sclerosis.csv\"\n",
    "df = pd.read_csv(fpath)\n",
    "df"
   ]
  },
  {
   "cell_type": "markdown",
   "id": "3dabe046",
   "metadata": {
    "papermill": {
     "duration": 0.007958,
     "end_time": "2023-05-31T02:22:53.606180",
     "exception": false,
     "start_time": "2023-05-31T02:22:53.598222",
     "status": "completed"
    },
    "tags": []
   },
   "source": [
    "Remove index, Initial_EDSS, and Final_EDSS\n",
    "Initial and Final EDSS has N/A values for all of group 2, while group 1 has values for both these columns. \n",
    "This will inadvertantly bias our data."
   ]
  },
  {
   "cell_type": "code",
   "execution_count": 3,
   "id": "ee1b5c67",
   "metadata": {
    "execution": {
     "iopub.execute_input": "2023-05-31T02:22:53.624618Z",
     "iopub.status.busy": "2023-05-31T02:22:53.624176Z",
     "iopub.status.idle": "2023-05-31T02:22:53.633364Z",
     "shell.execute_reply": "2023-05-31T02:22:53.632136Z"
    },
    "papermill": {
     "duration": 0.021542,
     "end_time": "2023-05-31T02:22:53.635739",
     "exception": false,
     "start_time": "2023-05-31T02:22:53.614197",
     "status": "completed"
    },
    "tags": []
   },
   "outputs": [
    {
     "data": {
      "text/plain": [
       "0        0\n",
       "1        1\n",
       "2        2\n",
       "3        3\n",
       "4        4\n",
       "      ... \n",
       "268    268\n",
       "269    269\n",
       "270    270\n",
       "271    271\n",
       "272    272\n",
       "Name: Unnamed: 0, Length: 273, dtype: int64"
      ]
     },
     "execution_count": 3,
     "metadata": {},
     "output_type": "execute_result"
    }
   ],
   "source": [
    "df.pop(\"Unnamed: 0\")"
   ]
  },
  {
   "cell_type": "code",
   "execution_count": 4,
   "id": "fa7df65c",
   "metadata": {
    "execution": {
     "iopub.execute_input": "2023-05-31T02:22:53.655539Z",
     "iopub.status.busy": "2023-05-31T02:22:53.655080Z",
     "iopub.status.idle": "2023-05-31T02:22:53.666543Z",
     "shell.execute_reply": "2023-05-31T02:22:53.665354Z"
    },
    "papermill": {
     "duration": 0.024771,
     "end_time": "2023-05-31T02:22:53.668918",
     "exception": false,
     "start_time": "2023-05-31T02:22:53.644147",
     "status": "completed"
    },
    "tags": []
   },
   "outputs": [
    {
     "data": {
      "text/plain": [
       "0      1.0\n",
       "1      2.0\n",
       "2      1.0\n",
       "3      1.0\n",
       "4      1.0\n",
       "      ... \n",
       "268    NaN\n",
       "269    NaN\n",
       "270    NaN\n",
       "271    NaN\n",
       "272    NaN\n",
       "Name: Final_EDSS, Length: 273, dtype: float64"
      ]
     },
     "execution_count": 4,
     "metadata": {},
     "output_type": "execute_result"
    }
   ],
   "source": [
    "df.pop(\"Initial_EDSS\")\n",
    "df.pop(\"Final_EDSS\")"
   ]
  },
  {
   "cell_type": "markdown",
   "id": "5507f983",
   "metadata": {
    "papermill": {
     "duration": 0.008381,
     "end_time": "2023-05-31T02:22:53.685557",
     "exception": false,
     "start_time": "2023-05-31T02:22:53.677176",
     "status": "completed"
    },
    "tags": []
   },
   "source": [
    "Two rows are missing data, will just drop them as this dataset doesn't appear to missing much data."
   ]
  },
  {
   "cell_type": "code",
   "execution_count": 5,
   "id": "4f3ac44d",
   "metadata": {
    "execution": {
     "iopub.execute_input": "2023-05-31T02:22:53.703867Z",
     "iopub.status.busy": "2023-05-31T02:22:53.703473Z",
     "iopub.status.idle": "2023-05-31T02:22:53.712576Z",
     "shell.execute_reply": "2023-05-31T02:22:53.711597Z"
    },
    "papermill": {
     "duration": 0.020995,
     "end_time": "2023-05-31T02:22:53.714980",
     "exception": false,
     "start_time": "2023-05-31T02:22:53.693985",
     "status": "completed"
    },
    "tags": []
   },
   "outputs": [],
   "source": [
    "df = df.dropna()"
   ]
  },
  {
   "cell_type": "markdown",
   "id": "4da3226e",
   "metadata": {
    "papermill": {
     "duration": 0.008015,
     "end_time": "2023-05-31T02:22:53.731184",
     "exception": false,
     "start_time": "2023-05-31T02:22:53.723169",
     "status": "completed"
    },
    "tags": []
   },
   "source": [
    "One Hot Encoding Categorical Data\n",
    "This data is already numeric, but I don't want to accidentally introduce ordinality to these values as 3 is listed as unknown."
   ]
  },
  {
   "cell_type": "code",
   "execution_count": 6,
   "id": "b1a43438",
   "metadata": {
    "execution": {
     "iopub.execute_input": "2023-05-31T02:22:53.749727Z",
     "iopub.status.busy": "2023-05-31T02:22:53.749312Z",
     "iopub.status.idle": "2023-05-31T02:22:53.754902Z",
     "shell.execute_reply": "2023-05-31T02:22:53.753765Z"
    },
    "papermill": {
     "duration": 0.018119,
     "end_time": "2023-05-31T02:22:53.757522",
     "exception": false,
     "start_time": "2023-05-31T02:22:53.739403",
     "status": "completed"
    },
    "tags": []
   },
   "outputs": [],
   "source": [
    "cat_cols = [\"Gender\",\"Breastfeeding\",\"Varicella\",\"Initial_Symptom\",\"Mono_or_Polysymptomatic\",\"Oligoclonal_Bands\"]"
   ]
  },
  {
   "cell_type": "code",
   "execution_count": 7,
   "id": "5269a94a",
   "metadata": {
    "execution": {
     "iopub.execute_input": "2023-05-31T02:22:53.776811Z",
     "iopub.status.busy": "2023-05-31T02:22:53.776413Z",
     "iopub.status.idle": "2023-05-31T02:22:53.795390Z",
     "shell.execute_reply": "2023-05-31T02:22:53.794506Z"
    },
    "papermill": {
     "duration": 0.031985,
     "end_time": "2023-05-31T02:22:53.797978",
     "exception": false,
     "start_time": "2023-05-31T02:22:53.765993",
     "status": "completed"
    },
    "tags": []
   },
   "outputs": [],
   "source": [
    "df = pd.get_dummies(df, columns=cat_cols,dtype=int)"
   ]
  },
  {
   "cell_type": "code",
   "execution_count": 8,
   "id": "85533c44",
   "metadata": {
    "execution": {
     "iopub.execute_input": "2023-05-31T02:22:53.816841Z",
     "iopub.status.busy": "2023-05-31T02:22:53.816168Z",
     "iopub.status.idle": "2023-05-31T02:22:53.822256Z",
     "shell.execute_reply": "2023-05-31T02:22:53.821290Z"
    },
    "papermill": {
     "duration": 0.01852,
     "end_time": "2023-05-31T02:22:53.824819",
     "exception": false,
     "start_time": "2023-05-31T02:22:53.806299",
     "status": "completed"
    },
    "tags": []
   },
   "outputs": [],
   "source": [
    "y = df.pop(\"group\")\n",
    "X = df"
   ]
  },
  {
   "cell_type": "markdown",
   "id": "cd3afc0e",
   "metadata": {
    "papermill": {
     "duration": 0.008686,
     "end_time": "2023-05-31T02:22:53.842093",
     "exception": false,
     "start_time": "2023-05-31T02:22:53.833407",
     "status": "completed"
    },
    "tags": []
   },
   "source": [
    "The populations are fairly close in size, if they were different we may consider upsampling."
   ]
  },
  {
   "cell_type": "code",
   "execution_count": 9,
   "id": "cd0f4a41",
   "metadata": {
    "execution": {
     "iopub.execute_input": "2023-05-31T02:22:53.862229Z",
     "iopub.status.busy": "2023-05-31T02:22:53.860983Z",
     "iopub.status.idle": "2023-05-31T02:22:53.872104Z",
     "shell.execute_reply": "2023-05-31T02:22:53.870883Z"
    },
    "papermill": {
     "duration": 0.024116,
     "end_time": "2023-05-31T02:22:53.874696",
     "exception": false,
     "start_time": "2023-05-31T02:22:53.850580",
     "status": "completed"
    },
    "tags": []
   },
   "outputs": [
    {
     "data": {
      "text/plain": [
       "2    146\n",
       "1    125\n",
       "Name: group, dtype: int64"
      ]
     },
     "execution_count": 9,
     "metadata": {},
     "output_type": "execute_result"
    }
   ],
   "source": [
    "y.value_counts()"
   ]
  },
  {
   "cell_type": "code",
   "execution_count": 10,
   "id": "5785f2be",
   "metadata": {
    "execution": {
     "iopub.execute_input": "2023-05-31T02:22:53.894386Z",
     "iopub.status.busy": "2023-05-31T02:22:53.893290Z",
     "iopub.status.idle": "2023-05-31T02:22:53.901777Z",
     "shell.execute_reply": "2023-05-31T02:22:53.900550Z"
    },
    "papermill": {
     "duration": 0.020891,
     "end_time": "2023-05-31T02:22:53.904263",
     "exception": false,
     "start_time": "2023-05-31T02:22:53.883372",
     "status": "completed"
    },
    "tags": []
   },
   "outputs": [
    {
     "data": {
      "text/plain": [
       "Index(['Age', 'Schooling', 'LLSSEP', 'ULSSEP', 'VEP', 'BAEP',\n",
       "       'Periventricular_MRI', 'Cortical_MRI', 'Infratentorial_MRI',\n",
       "       'Spinal_Cord_MRI', 'Gender_1', 'Gender_2', 'Breastfeeding_1',\n",
       "       'Breastfeeding_2', 'Breastfeeding_3', 'Varicella_1', 'Varicella_2',\n",
       "       'Varicella_3', 'Initial_Symptom_1.0', 'Initial_Symptom_2.0',\n",
       "       'Initial_Symptom_3.0', 'Initial_Symptom_4.0', 'Initial_Symptom_5.0',\n",
       "       'Initial_Symptom_6.0', 'Initial_Symptom_7.0', 'Initial_Symptom_8.0',\n",
       "       'Initial_Symptom_9.0', 'Initial_Symptom_10.0', 'Initial_Symptom_11.0',\n",
       "       'Initial_Symptom_12.0', 'Initial_Symptom_13.0', 'Initial_Symptom_14.0',\n",
       "       'Initial_Symptom_15.0', 'Mono_or_Polysymptomatic_1',\n",
       "       'Mono_or_Polysymptomatic_2', 'Mono_or_Polysymptomatic_3',\n",
       "       'Oligoclonal_Bands_0', 'Oligoclonal_Bands_1', 'Oligoclonal_Bands_2'],\n",
       "      dtype='object')"
      ]
     },
     "execution_count": 10,
     "metadata": {},
     "output_type": "execute_result"
    }
   ],
   "source": [
    "X.columns"
   ]
  },
  {
   "cell_type": "code",
   "execution_count": 11,
   "id": "98f03aca",
   "metadata": {
    "execution": {
     "iopub.execute_input": "2023-05-31T02:22:53.924767Z",
     "iopub.status.busy": "2023-05-31T02:22:53.924322Z",
     "iopub.status.idle": "2023-05-31T02:22:53.932795Z",
     "shell.execute_reply": "2023-05-31T02:22:53.931403Z"
    },
    "papermill": {
     "duration": 0.021584,
     "end_time": "2023-05-31T02:22:53.935314",
     "exception": false,
     "start_time": "2023-05-31T02:22:53.913730",
     "status": "completed"
    },
    "tags": []
   },
   "outputs": [],
   "source": [
    "X, X_test, y, y_test = train_test_split(X, y, random_state=13)"
   ]
  },
  {
   "cell_type": "markdown",
   "id": "adea6c18",
   "metadata": {
    "papermill": {
     "duration": 0.009222,
     "end_time": "2023-05-31T02:22:53.953542",
     "exception": false,
     "start_time": "2023-05-31T02:22:53.944320",
     "status": "completed"
    },
    "tags": []
   },
   "source": [
    "Initial attempt with RandomForestClassifier, default params"
   ]
  },
  {
   "cell_type": "code",
   "execution_count": 12,
   "id": "0173ea84",
   "metadata": {
    "execution": {
     "iopub.execute_input": "2023-05-31T02:22:53.973681Z",
     "iopub.status.busy": "2023-05-31T02:22:53.973254Z",
     "iopub.status.idle": "2023-05-31T02:22:56.671631Z",
     "shell.execute_reply": "2023-05-31T02:22:56.670439Z"
    },
    "papermill": {
     "duration": 2.712043,
     "end_time": "2023-05-31T02:22:56.674744",
     "exception": false,
     "start_time": "2023-05-31T02:22:53.962701",
     "status": "completed"
    },
    "tags": []
   },
   "outputs": [
    {
     "data": {
      "text/plain": [
       "array([0.71428571, 0.76190476, 0.80952381, 0.9       , 0.8       ,\n",
       "       0.75      , 0.85      , 0.75      , 0.75      , 0.85      ])"
      ]
     },
     "execution_count": 12,
     "metadata": {},
     "output_type": "execute_result"
    }
   ],
   "source": [
    "regr = RandomForestClassifier(random_state=13)\n",
    "regr.fit(X, y)\n",
    "score = cross_val_score(regr, X, y, cv=10)\n",
    "score"
   ]
  },
  {
   "cell_type": "markdown",
   "id": "8866be27",
   "metadata": {
    "papermill": {
     "duration": 0.009714,
     "end_time": "2023-05-31T02:22:56.693868",
     "exception": false,
     "start_time": "2023-05-31T02:22:56.684154",
     "status": "completed"
    },
    "tags": []
   },
   "source": [
    "Large variation in results from cross validation, unsure on why."
   ]
  },
  {
   "cell_type": "markdown",
   "id": "e55bc0b9",
   "metadata": {
    "papermill": {
     "duration": 0.009069,
     "end_time": "2023-05-31T02:22:56.712867",
     "exception": false,
     "start_time": "2023-05-31T02:22:56.703798",
     "status": "completed"
    },
    "tags": []
   },
   "source": [
    "Trying some other parameters to see if performance increase can be found."
   ]
  },
  {
   "cell_type": "code",
   "execution_count": 13,
   "id": "829166a8",
   "metadata": {
    "execution": {
     "iopub.execute_input": "2023-05-31T02:22:56.733658Z",
     "iopub.status.busy": "2023-05-31T02:22:56.732734Z",
     "iopub.status.idle": "2023-05-31T02:22:56.739737Z",
     "shell.execute_reply": "2023-05-31T02:22:56.738184Z"
    },
    "papermill": {
     "duration": 0.020503,
     "end_time": "2023-05-31T02:22:56.742578",
     "exception": false,
     "start_time": "2023-05-31T02:22:56.722075",
     "status": "completed"
    },
    "tags": []
   },
   "outputs": [],
   "source": [
    "parameters={'min_samples_split':[2,4,8,16],\"criterion\":[\"gini\", \"entropy\", 'log_loss']}"
   ]
  },
  {
   "cell_type": "code",
   "execution_count": 14,
   "id": "8ced5c34",
   "metadata": {
    "execution": {
     "iopub.execute_input": "2023-05-31T02:22:56.766937Z",
     "iopub.status.busy": "2023-05-31T02:22:56.764057Z",
     "iopub.status.idle": "2023-05-31T02:23:11.628764Z",
     "shell.execute_reply": "2023-05-31T02:23:11.627623Z"
    },
    "papermill": {
     "duration": 14.879624,
     "end_time": "2023-05-31T02:23:11.631488",
     "exception": false,
     "start_time": "2023-05-31T02:22:56.751864",
     "status": "completed"
    },
    "tags": []
   },
   "outputs": [
    {
     "data": {
      "text/html": [
       "<style>#sk-container-id-1 {color: black;background-color: white;}#sk-container-id-1 pre{padding: 0;}#sk-container-id-1 div.sk-toggleable {background-color: white;}#sk-container-id-1 label.sk-toggleable__label {cursor: pointer;display: block;width: 100%;margin-bottom: 0;padding: 0.3em;box-sizing: border-box;text-align: center;}#sk-container-id-1 label.sk-toggleable__label-arrow:before {content: \"▸\";float: left;margin-right: 0.25em;color: #696969;}#sk-container-id-1 label.sk-toggleable__label-arrow:hover:before {color: black;}#sk-container-id-1 div.sk-estimator:hover label.sk-toggleable__label-arrow:before {color: black;}#sk-container-id-1 div.sk-toggleable__content {max-height: 0;max-width: 0;overflow: hidden;text-align: left;background-color: #f0f8ff;}#sk-container-id-1 div.sk-toggleable__content pre {margin: 0.2em;color: black;border-radius: 0.25em;background-color: #f0f8ff;}#sk-container-id-1 input.sk-toggleable__control:checked~div.sk-toggleable__content {max-height: 200px;max-width: 100%;overflow: auto;}#sk-container-id-1 input.sk-toggleable__control:checked~label.sk-toggleable__label-arrow:before {content: \"▾\";}#sk-container-id-1 div.sk-estimator input.sk-toggleable__control:checked~label.sk-toggleable__label {background-color: #d4ebff;}#sk-container-id-1 div.sk-label input.sk-toggleable__control:checked~label.sk-toggleable__label {background-color: #d4ebff;}#sk-container-id-1 input.sk-hidden--visually {border: 0;clip: rect(1px 1px 1px 1px);clip: rect(1px, 1px, 1px, 1px);height: 1px;margin: -1px;overflow: hidden;padding: 0;position: absolute;width: 1px;}#sk-container-id-1 div.sk-estimator {font-family: monospace;background-color: #f0f8ff;border: 1px dotted black;border-radius: 0.25em;box-sizing: border-box;margin-bottom: 0.5em;}#sk-container-id-1 div.sk-estimator:hover {background-color: #d4ebff;}#sk-container-id-1 div.sk-parallel-item::after {content: \"\";width: 100%;border-bottom: 1px solid gray;flex-grow: 1;}#sk-container-id-1 div.sk-label:hover label.sk-toggleable__label {background-color: #d4ebff;}#sk-container-id-1 div.sk-serial::before {content: \"\";position: absolute;border-left: 1px solid gray;box-sizing: border-box;top: 0;bottom: 0;left: 50%;z-index: 0;}#sk-container-id-1 div.sk-serial {display: flex;flex-direction: column;align-items: center;background-color: white;padding-right: 0.2em;padding-left: 0.2em;position: relative;}#sk-container-id-1 div.sk-item {position: relative;z-index: 1;}#sk-container-id-1 div.sk-parallel {display: flex;align-items: stretch;justify-content: center;background-color: white;position: relative;}#sk-container-id-1 div.sk-item::before, #sk-container-id-1 div.sk-parallel-item::before {content: \"\";position: absolute;border-left: 1px solid gray;box-sizing: border-box;top: 0;bottom: 0;left: 50%;z-index: -1;}#sk-container-id-1 div.sk-parallel-item {display: flex;flex-direction: column;z-index: 1;position: relative;background-color: white;}#sk-container-id-1 div.sk-parallel-item:first-child::after {align-self: flex-end;width: 50%;}#sk-container-id-1 div.sk-parallel-item:last-child::after {align-self: flex-start;width: 50%;}#sk-container-id-1 div.sk-parallel-item:only-child::after {width: 0;}#sk-container-id-1 div.sk-dashed-wrapped {border: 1px dashed gray;margin: 0 0.4em 0.5em 0.4em;box-sizing: border-box;padding-bottom: 0.4em;background-color: white;}#sk-container-id-1 div.sk-label label {font-family: monospace;font-weight: bold;display: inline-block;line-height: 1.2em;}#sk-container-id-1 div.sk-label-container {text-align: center;}#sk-container-id-1 div.sk-container {/* jupyter's `normalize.less` sets `[hidden] { display: none; }` but bootstrap.min.css set `[hidden] { display: none !important; }` so we also need the `!important` here to be able to override the default hidden behavior on the sphinx rendered scikit-learn.org. See: https://github.com/scikit-learn/scikit-learn/issues/21755 */display: inline-block !important;position: relative;}#sk-container-id-1 div.sk-text-repr-fallback {display: none;}</style><div id=\"sk-container-id-1\" class=\"sk-top-container\"><div class=\"sk-text-repr-fallback\"><pre>GridSearchCV(estimator=RandomForestClassifier(random_state=13),\n",
       "             param_grid={&#x27;criterion&#x27;: [&#x27;gini&#x27;, &#x27;entropy&#x27;, &#x27;log_loss&#x27;],\n",
       "                         &#x27;min_samples_split&#x27;: [2, 4, 8, 16]})</pre><b>In a Jupyter environment, please rerun this cell to show the HTML representation or trust the notebook. <br />On GitHub, the HTML representation is unable to render, please try loading this page with nbviewer.org.</b></div><div class=\"sk-container\" hidden><div class=\"sk-item sk-dashed-wrapped\"><div class=\"sk-label-container\"><div class=\"sk-label sk-toggleable\"><input class=\"sk-toggleable__control sk-hidden--visually\" id=\"sk-estimator-id-1\" type=\"checkbox\" ><label for=\"sk-estimator-id-1\" class=\"sk-toggleable__label sk-toggleable__label-arrow\">GridSearchCV</label><div class=\"sk-toggleable__content\"><pre>GridSearchCV(estimator=RandomForestClassifier(random_state=13),\n",
       "             param_grid={&#x27;criterion&#x27;: [&#x27;gini&#x27;, &#x27;entropy&#x27;, &#x27;log_loss&#x27;],\n",
       "                         &#x27;min_samples_split&#x27;: [2, 4, 8, 16]})</pre></div></div></div><div class=\"sk-parallel\"><div class=\"sk-parallel-item\"><div class=\"sk-item\"><div class=\"sk-label-container\"><div class=\"sk-label sk-toggleable\"><input class=\"sk-toggleable__control sk-hidden--visually\" id=\"sk-estimator-id-2\" type=\"checkbox\" ><label for=\"sk-estimator-id-2\" class=\"sk-toggleable__label sk-toggleable__label-arrow\">estimator: RandomForestClassifier</label><div class=\"sk-toggleable__content\"><pre>RandomForestClassifier(random_state=13)</pre></div></div></div><div class=\"sk-serial\"><div class=\"sk-item\"><div class=\"sk-estimator sk-toggleable\"><input class=\"sk-toggleable__control sk-hidden--visually\" id=\"sk-estimator-id-3\" type=\"checkbox\" ><label for=\"sk-estimator-id-3\" class=\"sk-toggleable__label sk-toggleable__label-arrow\">RandomForestClassifier</label><div class=\"sk-toggleable__content\"><pre>RandomForestClassifier(random_state=13)</pre></div></div></div></div></div></div></div></div></div></div>"
      ],
      "text/plain": [
       "GridSearchCV(estimator=RandomForestClassifier(random_state=13),\n",
       "             param_grid={'criterion': ['gini', 'entropy', 'log_loss'],\n",
       "                         'min_samples_split': [2, 4, 8, 16]})"
      ]
     },
     "execution_count": 14,
     "metadata": {},
     "output_type": "execute_result"
    }
   ],
   "source": [
    "clf = GridSearchCV(regr, parameters)\n",
    "clf.fit(X, y)"
   ]
  },
  {
   "cell_type": "code",
   "execution_count": 15,
   "id": "f81558d5",
   "metadata": {
    "execution": {
     "iopub.execute_input": "2023-05-31T02:23:11.653100Z",
     "iopub.status.busy": "2023-05-31T02:23:11.652713Z",
     "iopub.status.idle": "2023-05-31T02:23:11.660700Z",
     "shell.execute_reply": "2023-05-31T02:23:11.659400Z"
    },
    "papermill": {
     "duration": 0.021943,
     "end_time": "2023-05-31T02:23:11.663215",
     "exception": false,
     "start_time": "2023-05-31T02:23:11.641272",
     "status": "completed"
    },
    "tags": []
   },
   "outputs": [
    {
     "data": {
      "text/plain": [
       "array([0.80231707, 0.78304878, 0.78780488, 0.76317073, 0.78756098,\n",
       "       0.78768293, 0.78268293, 0.77292683, 0.78756098, 0.78768293,\n",
       "       0.78268293, 0.77292683])"
      ]
     },
     "execution_count": 15,
     "metadata": {},
     "output_type": "execute_result"
    }
   ],
   "source": [
    "clf.cv_results_[\"mean_test_score\"]"
   ]
  },
  {
   "cell_type": "code",
   "execution_count": 16,
   "id": "4b6e70d9",
   "metadata": {
    "execution": {
     "iopub.execute_input": "2023-05-31T02:23:11.685290Z",
     "iopub.status.busy": "2023-05-31T02:23:11.684895Z",
     "iopub.status.idle": "2023-05-31T02:23:11.689913Z",
     "shell.execute_reply": "2023-05-31T02:23:11.688697Z"
    },
    "papermill": {
     "duration": 0.019282,
     "end_time": "2023-05-31T02:23:11.692583",
     "exception": false,
     "start_time": "2023-05-31T02:23:11.673301",
     "status": "completed"
    },
    "tags": []
   },
   "outputs": [],
   "source": [
    "parameters={\"n_estimators\":[100,200,400]}"
   ]
  },
  {
   "cell_type": "code",
   "execution_count": 17,
   "id": "aa203164",
   "metadata": {
    "execution": {
     "iopub.execute_input": "2023-05-31T02:23:11.715199Z",
     "iopub.status.busy": "2023-05-31T02:23:11.714798Z",
     "iopub.status.idle": "2023-05-31T02:23:20.283651Z",
     "shell.execute_reply": "2023-05-31T02:23:20.282654Z"
    },
    "papermill": {
     "duration": 8.583539,
     "end_time": "2023-05-31T02:23:20.286456",
     "exception": false,
     "start_time": "2023-05-31T02:23:11.702917",
     "status": "completed"
    },
    "tags": []
   },
   "outputs": [
    {
     "data": {
      "text/html": [
       "<style>#sk-container-id-2 {color: black;background-color: white;}#sk-container-id-2 pre{padding: 0;}#sk-container-id-2 div.sk-toggleable {background-color: white;}#sk-container-id-2 label.sk-toggleable__label {cursor: pointer;display: block;width: 100%;margin-bottom: 0;padding: 0.3em;box-sizing: border-box;text-align: center;}#sk-container-id-2 label.sk-toggleable__label-arrow:before {content: \"▸\";float: left;margin-right: 0.25em;color: #696969;}#sk-container-id-2 label.sk-toggleable__label-arrow:hover:before {color: black;}#sk-container-id-2 div.sk-estimator:hover label.sk-toggleable__label-arrow:before {color: black;}#sk-container-id-2 div.sk-toggleable__content {max-height: 0;max-width: 0;overflow: hidden;text-align: left;background-color: #f0f8ff;}#sk-container-id-2 div.sk-toggleable__content pre {margin: 0.2em;color: black;border-radius: 0.25em;background-color: #f0f8ff;}#sk-container-id-2 input.sk-toggleable__control:checked~div.sk-toggleable__content {max-height: 200px;max-width: 100%;overflow: auto;}#sk-container-id-2 input.sk-toggleable__control:checked~label.sk-toggleable__label-arrow:before {content: \"▾\";}#sk-container-id-2 div.sk-estimator input.sk-toggleable__control:checked~label.sk-toggleable__label {background-color: #d4ebff;}#sk-container-id-2 div.sk-label input.sk-toggleable__control:checked~label.sk-toggleable__label {background-color: #d4ebff;}#sk-container-id-2 input.sk-hidden--visually {border: 0;clip: rect(1px 1px 1px 1px);clip: rect(1px, 1px, 1px, 1px);height: 1px;margin: -1px;overflow: hidden;padding: 0;position: absolute;width: 1px;}#sk-container-id-2 div.sk-estimator {font-family: monospace;background-color: #f0f8ff;border: 1px dotted black;border-radius: 0.25em;box-sizing: border-box;margin-bottom: 0.5em;}#sk-container-id-2 div.sk-estimator:hover {background-color: #d4ebff;}#sk-container-id-2 div.sk-parallel-item::after {content: \"\";width: 100%;border-bottom: 1px solid gray;flex-grow: 1;}#sk-container-id-2 div.sk-label:hover label.sk-toggleable__label {background-color: #d4ebff;}#sk-container-id-2 div.sk-serial::before {content: \"\";position: absolute;border-left: 1px solid gray;box-sizing: border-box;top: 0;bottom: 0;left: 50%;z-index: 0;}#sk-container-id-2 div.sk-serial {display: flex;flex-direction: column;align-items: center;background-color: white;padding-right: 0.2em;padding-left: 0.2em;position: relative;}#sk-container-id-2 div.sk-item {position: relative;z-index: 1;}#sk-container-id-2 div.sk-parallel {display: flex;align-items: stretch;justify-content: center;background-color: white;position: relative;}#sk-container-id-2 div.sk-item::before, #sk-container-id-2 div.sk-parallel-item::before {content: \"\";position: absolute;border-left: 1px solid gray;box-sizing: border-box;top: 0;bottom: 0;left: 50%;z-index: -1;}#sk-container-id-2 div.sk-parallel-item {display: flex;flex-direction: column;z-index: 1;position: relative;background-color: white;}#sk-container-id-2 div.sk-parallel-item:first-child::after {align-self: flex-end;width: 50%;}#sk-container-id-2 div.sk-parallel-item:last-child::after {align-self: flex-start;width: 50%;}#sk-container-id-2 div.sk-parallel-item:only-child::after {width: 0;}#sk-container-id-2 div.sk-dashed-wrapped {border: 1px dashed gray;margin: 0 0.4em 0.5em 0.4em;box-sizing: border-box;padding-bottom: 0.4em;background-color: white;}#sk-container-id-2 div.sk-label label {font-family: monospace;font-weight: bold;display: inline-block;line-height: 1.2em;}#sk-container-id-2 div.sk-label-container {text-align: center;}#sk-container-id-2 div.sk-container {/* jupyter's `normalize.less` sets `[hidden] { display: none; }` but bootstrap.min.css set `[hidden] { display: none !important; }` so we also need the `!important` here to be able to override the default hidden behavior on the sphinx rendered scikit-learn.org. See: https://github.com/scikit-learn/scikit-learn/issues/21755 */display: inline-block !important;position: relative;}#sk-container-id-2 div.sk-text-repr-fallback {display: none;}</style><div id=\"sk-container-id-2\" class=\"sk-top-container\"><div class=\"sk-text-repr-fallback\"><pre>GridSearchCV(estimator=RandomForestClassifier(random_state=13),\n",
       "             param_grid={&#x27;n_estimators&#x27;: [100, 200, 400]})</pre><b>In a Jupyter environment, please rerun this cell to show the HTML representation or trust the notebook. <br />On GitHub, the HTML representation is unable to render, please try loading this page with nbviewer.org.</b></div><div class=\"sk-container\" hidden><div class=\"sk-item sk-dashed-wrapped\"><div class=\"sk-label-container\"><div class=\"sk-label sk-toggleable\"><input class=\"sk-toggleable__control sk-hidden--visually\" id=\"sk-estimator-id-4\" type=\"checkbox\" ><label for=\"sk-estimator-id-4\" class=\"sk-toggleable__label sk-toggleable__label-arrow\">GridSearchCV</label><div class=\"sk-toggleable__content\"><pre>GridSearchCV(estimator=RandomForestClassifier(random_state=13),\n",
       "             param_grid={&#x27;n_estimators&#x27;: [100, 200, 400]})</pre></div></div></div><div class=\"sk-parallel\"><div class=\"sk-parallel-item\"><div class=\"sk-item\"><div class=\"sk-label-container\"><div class=\"sk-label sk-toggleable\"><input class=\"sk-toggleable__control sk-hidden--visually\" id=\"sk-estimator-id-5\" type=\"checkbox\" ><label for=\"sk-estimator-id-5\" class=\"sk-toggleable__label sk-toggleable__label-arrow\">estimator: RandomForestClassifier</label><div class=\"sk-toggleable__content\"><pre>RandomForestClassifier(random_state=13)</pre></div></div></div><div class=\"sk-serial\"><div class=\"sk-item\"><div class=\"sk-estimator sk-toggleable\"><input class=\"sk-toggleable__control sk-hidden--visually\" id=\"sk-estimator-id-6\" type=\"checkbox\" ><label for=\"sk-estimator-id-6\" class=\"sk-toggleable__label sk-toggleable__label-arrow\">RandomForestClassifier</label><div class=\"sk-toggleable__content\"><pre>RandomForestClassifier(random_state=13)</pre></div></div></div></div></div></div></div></div></div></div>"
      ],
      "text/plain": [
       "GridSearchCV(estimator=RandomForestClassifier(random_state=13),\n",
       "             param_grid={'n_estimators': [100, 200, 400]})"
      ]
     },
     "execution_count": 17,
     "metadata": {},
     "output_type": "execute_result"
    }
   ],
   "source": [
    "clf = GridSearchCV(regr, parameters)\n",
    "clf.fit(X, y)"
   ]
  },
  {
   "cell_type": "code",
   "execution_count": 18,
   "id": "4060089d",
   "metadata": {
    "execution": {
     "iopub.execute_input": "2023-05-31T02:23:20.310067Z",
     "iopub.status.busy": "2023-05-31T02:23:20.309659Z",
     "iopub.status.idle": "2023-05-31T02:23:20.316347Z",
     "shell.execute_reply": "2023-05-31T02:23:20.315312Z"
    },
    "papermill": {
     "duration": 0.021081,
     "end_time": "2023-05-31T02:23:20.318714",
     "exception": false,
     "start_time": "2023-05-31T02:23:20.297633",
     "status": "completed"
    },
    "tags": []
   },
   "outputs": [
    {
     "data": {
      "text/plain": [
       "array([0.80231707, 0.76804878, 0.78768293])"
      ]
     },
     "execution_count": 18,
     "metadata": {},
     "output_type": "execute_result"
    }
   ],
   "source": [
    "clf.cv_results_[\"mean_test_score\"]"
   ]
  },
  {
   "cell_type": "code",
   "execution_count": 19,
   "id": "8fc78926",
   "metadata": {
    "execution": {
     "iopub.execute_input": "2023-05-31T02:23:20.341744Z",
     "iopub.status.busy": "2023-05-31T02:23:20.341292Z",
     "iopub.status.idle": "2023-05-31T02:23:20.377017Z",
     "shell.execute_reply": "2023-05-31T02:23:20.375665Z"
    },
    "papermill": {
     "duration": 0.050292,
     "end_time": "2023-05-31T02:23:20.379520",
     "exception": false,
     "start_time": "2023-05-31T02:23:20.329228",
     "status": "completed"
    },
    "tags": []
   },
   "outputs": [
    {
     "name": "stdout",
     "output_type": "stream",
     "text": [
      "              precision    recall  f1-score   support\n",
      "\n",
      "           1       0.77      0.86      0.81        28\n",
      "           2       0.89      0.82      0.86        40\n",
      "\n",
      "    accuracy                           0.84        68\n",
      "   macro avg       0.83      0.84      0.84        68\n",
      "weighted avg       0.84      0.84      0.84        68\n",
      "\n"
     ]
    }
   ],
   "source": [
    "y_pred = regr.predict(X_test)\n",
    "report = classification_report(y_test, y_pred)\n",
    "print(report)"
   ]
  },
  {
   "cell_type": "markdown",
   "id": "d7399cb8",
   "metadata": {
    "papermill": {
     "duration": 0.010704,
     "end_time": "2023-05-31T02:23:20.401145",
     "exception": false,
     "start_time": "2023-05-31T02:23:20.390441",
     "status": "completed"
    },
    "tags": []
   },
   "source": []
  }
 ],
 "metadata": {
  "kernelspec": {
   "display_name": "Python 3",
   "language": "python",
   "name": "python3"
  },
  "language_info": {
   "codemirror_mode": {
    "name": "ipython",
    "version": 3
   },
   "file_extension": ".py",
   "mimetype": "text/x-python",
   "name": "python",
   "nbconvert_exporter": "python",
   "pygments_lexer": "ipython3",
   "version": "3.10.10"
  },
  "papermill": {
   "default_parameters": {},
   "duration": 42.964239,
   "end_time": "2023-05-31T02:23:21.434393",
   "environment_variables": {},
   "exception": null,
   "input_path": "__notebook__.ipynb",
   "output_path": "__notebook__.ipynb",
   "parameters": {},
   "start_time": "2023-05-31T02:22:38.470154",
   "version": "2.4.0"
  }
 },
 "nbformat": 4,
 "nbformat_minor": 5
}
